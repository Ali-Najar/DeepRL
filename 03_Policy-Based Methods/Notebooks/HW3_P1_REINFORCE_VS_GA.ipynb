{
  "cells": [
    {
      "cell_type": "markdown",
      "metadata": {
        "id": "-qm_04eLVkW2"
      },
      "source": [
        "# Run this Notebook\n",
        "\n",
        "[![Open In Colab](https://colab.research.google.com/assets/colab-badge.svg)](https://colab.research.google.com/github/DeepRLCourse/Homework-3-Questions/blob/main/HW3_P1_REINFORCE_VS_GA.ipynb)  \n",
        "[![Open in Kaggle](https://kaggle.com/static/images/open-in-kaggle.svg)](https://kaggle.com/kernels/welcome?src=https://github.com/DeepRLCourse/Homework-3-Questions/blob/main/HW3_P1_REINFORCE_VS_GA.ipynb)\n",
        "\n",
        "# HW3: REINFORCE Vs. GA\n",
        "> - Full Name: **Ali Najar**\n",
        "> - Student ID: **401102701**\n",
        "\n",
        "\n",
        "This notebook implements a Grid World environment where an agent learns to navigate from a start position to a goal while avoiding penalties. It compares two learning approaches:\n",
        "\n",
        "1. REINFORCE Algorithm (Policy Gradient)\n",
        "2. Genetic Algorithm\n",
        "\n",
        "Follow the instructions in each section to complete the homework.\n",
        "\n",
        "**Grading Breakdown:**\n",
        "\n",
        "- Practical Implementation: 60 points\n",
        "- Conceptual Understanding: 40 points"
      ]
    },
    {
      "cell_type": "markdown",
      "metadata": {
        "id": "UIV1aBVOVkW3"
      },
      "source": [
        "# Setup"
      ]
    },
    {
      "cell_type": "markdown",
      "metadata": {
        "id": "R3E7ds6pVkW3"
      },
      "source": [
        "All required packages are pre-installed if using Google Colab."
      ]
    },
    {
      "cell_type": "markdown",
      "metadata": {
        "id": "1zIoHwp7VkW3"
      },
      "source": [
        "Import the following libraries."
      ]
    },
    {
      "cell_type": "code",
      "execution_count": 11,
      "metadata": {
        "colab": {
          "base_uri": "https://localhost:8080/"
        },
        "id": "lPTr6YAZVkW3",
        "outputId": "dc0304f4-db96-46f3-b49e-2a6cc8ef7a16"
      },
      "outputs": [
        {
          "name": "stdout",
          "output_type": "stream",
          "text": [
            "Using device: cuda\n"
          ]
        }
      ],
      "source": [
        "import numpy as np\n",
        "import random\n",
        "import torch\n",
        "import torch.nn as nn\n",
        "import torch.optim as optim\n",
        "import matplotlib.pyplot as plt\n",
        "\n",
        "device = 'cuda' if torch.cuda.is_available() else 'cpu'\n",
        "print(f\"Using device: {device}\")"
      ]
    },
    {
      "cell_type": "markdown",
      "metadata": {
        "id": "npDihcn-VkW4"
      },
      "source": [
        "# Environment (10 Points)"
      ]
    },
    {
      "cell_type": "markdown",
      "metadata": {
        "id": "4VIbPrUNVkW4"
      },
      "source": [
        "### GridWorld Class Definition (10 Points)"
      ]
    },
    {
      "cell_type": "code",
      "execution_count": 12,
      "metadata": {
        "id": "gzZ21DR3VkW4"
      },
      "outputs": [],
      "source": [
        "# Grid World Parameters\n",
        "GRID_SIZE = 7\n",
        "\n",
        "# Specify the penalty locations on the Grid World. The number of penalty locations must be 8. {(x_1, y_1): penalty_reward, .... , (x_8, y_8): penalty_reward}\n",
        "PENALTIES = PENALTIES = {\n",
        "    (1, 5): -10,\n",
        "    (2, 2): -10,\n",
        "    (5, 3): -10,\n",
        "    (4, 4): -10,\n",
        "    (4, 5): -10,\n",
        "    (5, 1): -10,\n",
        "    (2, 3): -10,\n",
        "    (2, 0): -10\n",
        "}\n",
        "\n",
        "# Specify the goal location.\n",
        "GOAL = (6, 6)\n",
        "\n",
        "# Properly assign values to the following rewards.\n",
        "GOAL_REWARD = 100\n",
        "STEP_PENALTY = -1\n",
        "BOUNDARY_PENALTY = -5\n",
        "\n",
        "ACTIONS = ['up', 'down', 'left', 'right']\n",
        "ACTION_IDX = {a: i for i, a in enumerate(ACTIONS)}"
      ]
    },
    {
      "cell_type": "markdown",
      "metadata": {
        "id": "PdM2t2xbVkW4"
      },
      "source": [
        "### GridWorld Environmnet Definition"
      ]
    },
    {
      "cell_type": "code",
      "execution_count": 13,
      "metadata": {
        "id": "jQCWrZErVkW4"
      },
      "outputs": [],
      "source": [
        "class GridWorld:\n",
        "    def step(self, state, action):\n",
        "        x, y = state\n",
        "        new_x, new_y = x, y\n",
        "\n",
        "        if action == 'right':\n",
        "            new_x = min(x + 1, GRID_SIZE - 1)\n",
        "        elif action == 'left':\n",
        "            new_x = max(x - 1, 0)\n",
        "        elif action == 'up':\n",
        "            new_y = min(y + 1, GRID_SIZE - 1)\n",
        "        elif action == 'down':\n",
        "            new_y = max(y - 1, 0)\n",
        "\n",
        "        reward = STEP_PENALTY\n",
        "        if (new_x, new_y) == (x, y):\n",
        "            reward += BOUNDARY_PENALTY\n",
        "        if (new_x, new_y) in PENALTIES:\n",
        "            reward += PENALTIES[(new_x, new_y)]\n",
        "        if (new_x, new_y) == GOAL:\n",
        "            reward += GOAL_REWARD\n",
        "\n",
        "        return (new_x, new_y), reward"
      ]
    },
    {
      "cell_type": "markdown",
      "metadata": {
        "id": "nurQzzl_VkW5"
      },
      "source": [
        "### Initialize the Grid World"
      ]
    },
    {
      "cell_type": "code",
      "execution_count": 14,
      "metadata": {
        "id": "fU3GAx06VkW5"
      },
      "outputs": [],
      "source": [
        "grid_world = GridWorld()"
      ]
    },
    {
      "cell_type": "markdown",
      "metadata": {
        "id": "Djg0CI67VkW5"
      },
      "source": [
        "### Plot Empty Grid World"
      ]
    },
    {
      "cell_type": "code",
      "execution_count": 15,
      "metadata": {
        "colab": {
          "base_uri": "https://localhost:8080/",
          "height": 468
        },
        "id": "TxqhAyerVkW5",
        "outputId": "8585bc69-afe6-448b-9106-034e29f791fe"
      },
      "outputs": [
        {
          "data": {
            "image/png": "[encoded data removed]",
            "text/plain": [
              "<Figure size 500x500 with 1 Axes>"
            ]
          },
          "metadata": {},
          "output_type": "display_data"
        }
      ],
      "source": [
        "plt.figure(figsize=(5, 5))\n",
        "plt.scatter(0, 0, c='green', marker='s', label='Start')\n",
        "plt.scatter(GOAL[0], GOAL[1], c='red', marker='X', label='Goal')\n",
        "for i, (px, py) in enumerate(PENALTIES):\n",
        "    if i == 0:\n",
        "        plt.scatter(px, py, c='orange', marker='D', label='Penalty')\n",
        "    else:\n",
        "        plt.scatter(px, py, c='orange', marker='D')\n",
        "plt.xticks(range(GRID_SIZE))\n",
        "plt.yticks(range(GRID_SIZE))\n",
        "plt.title(\"Grid World\")\n",
        "plt.legend()\n",
        "plt.grid(True)\n",
        "plt.show()"
      ]
    },
    {
      "cell_type": "markdown",
      "metadata": {
        "id": "fLm0Q_NUVkW5"
      },
      "source": [
        "# REINFORCE Algorithm (30 Points)"
      ]
    },
    {
      "cell_type": "markdown",
      "metadata": {
        "id": "gC1g8VL_VkW5"
      },
      "source": [
        "The REINFORCE algorithm updates policy parameters by using the log-probability of actions multiplied by the discounted return.\n",
        "\n",
        "This algorithm optimizes a **stochastic policy** $( \\pi_{\\theta}(a_t \\mid s_t) )$ by updating its parameters in the direction that increases expected rewards. The update rule is based on the **policy gradient theorem**:  \n",
        "\n",
        "$$[\n",
        "\\theta \\leftarrow \\theta + \\alpha \\sum_{t=0}^{T} \\nabla_{\\theta} \\log \\pi_{\\theta}(a_t \\mid s_t) G_t\n",
        "]$$\n",
        "\n",
        "where:  \n",
        "\n",
        "- $( \\theta )$ are the policy parameters (weights of the neural network).  \n",
        "- $( \\alpha )$ is the learning rate.  \n",
        "- $( G_t )$ is the **discounted return** from timestep $( t )$:  \n",
        "\n",
        "$$[\n",
        "G_t = \\sum_{k=0}^{T-t} \\gamma^k R_{t+k}\n",
        "]$$\n",
        "\n",
        "- $( \\nabla_{\\theta} \\log \\pi_{\\theta}(a_t \\mid s_t) )$ is the gradient of the log-probability of the selected action, used to adjust the policy in the correct direction."
      ]
    },
    {
      "cell_type": "markdown",
      "metadata": {
        "id": "mpvODJhGVkW5"
      },
      "source": [
        "### Policy Network Definition (10 points)"
      ]
    },
    {
      "cell_type": "code",
      "execution_count": 16,
      "metadata": {
        "id": "NDniXDH8VkW5"
      },
      "outputs": [],
      "source": [
        "class PolicyNetwork(nn.Module):\n",
        "    def __init__(self, input_dim, output_dim, hidden_dim):\n",
        "        super().__init__()\n",
        "        self.fc1 = nn.Linear(input_dim, hidden_dim)  # input -> hidden layer\n",
        "        self.fc2 = nn.Linear(hidden_dim, output_dim)   # hidden layer -> output logits\n",
        "\n",
        "    def forward(self, state):\n",
        "        x = torch.relu(self.fc1(state))\n",
        "        return torch.log_softmax(self.fc2(x), dim=-1)\n"
      ]
    },
    {
      "cell_type": "markdown",
      "metadata": {
        "id": "z3s9oBcxVkW5"
      },
      "source": [
        "### REINFORCE Agent Implementation (20 Points)"
      ]
    },
    {
      "cell_type": "code",
      "execution_count": 28,
      "metadata": {
        "id": "SFgBI88IVkW6"
      },
      "outputs": [],
      "source": [
        "class ReinforceAgent:\n",
        "    def __init__(self, lr=0.005, gamma=0.99):\n",
        "        self.device = device if device is not None else (\"cuda\" if torch.cuda.is_available() else \"cpu\")\n",
        "        self.input_dim = 2    # x and y positions\n",
        "        self.output_dim = len(ACTIONS)   # number of actions, e.g., 4\n",
        "        self.hidden_dim = 32   # hidden layer size; adjust as needed\n",
        "        self.policy_net = PolicyNetwork(self.input_dim, self.output_dim, self.hidden_dim).to(self.device)\n",
        "        self.optimizer = optim.Adam(self.policy_net.parameters(), lr=lr)\n",
        "        self.gamma = gamma\n",
        "\n",
        "    def train(self, episodes=6000, epsilon=1.0, epsilon_decay=0.9995, min_epsilon=0.01):\n",
        "        for episode in range(episodes):\n",
        "            state = (0, 0)\n",
        "            trajectory, rewards = [], []\n",
        "\n",
        "            while state != GOAL:\n",
        "                state_tensor = torch.tensor(state, dtype=torch.float32).to(self.device)\n",
        "                log_action_probs = self.policy_net(state_tensor).detach().cpu().numpy()\n",
        "                action_probs = np.exp(log_action_probs)\n",
        "\n",
        "                random_value = random.random()  # Generate a random number between 0 and 1.\n",
        "\n",
        "                # Using an epsilon-greedy strategy to balance exploration & exploitation:\n",
        "                if random_value < epsilon:\n",
        "                    # Choose a random action (exploration) -> random choice from ACTIONS.\n",
        "                    action = random.choice(ACTIONS)\n",
        "                else:\n",
        "                    # Choose the action with the highest probability (exploitation).\n",
        "                    best_action_index = np.argmax(action_probs)\n",
        "                    action = ACTIONS[best_action_index]\n",
        "\n",
        "                # Take a step in the Grid World based on the chosen action.\n",
        "                new_state, reward = grid_world.step(state, action)\n",
        "\n",
        "                # Store the current state, action taken, and received reward in the trajectory.\n",
        "                trajectory.append((state, action, reward))\n",
        "\n",
        "                # Record the reward to calculate returns later.\n",
        "                rewards.append(reward)\n",
        "\n",
        "                # Update the state to the new position for the next step.\n",
        "                state = new_state\n",
        "\n",
        "            returns, G = [], 0\n",
        "            for r in reversed(rewards):\n",
        "                G = r + self.gamma * G\n",
        "                returns.insert(0, G)\n",
        "\n",
        "            returns = torch.tensor(returns, dtype=torch.float32).to(self.device)\n",
        "            baseline = returns.mean()\n",
        "            returns -= baseline\n",
        "\n",
        "            loss = 0\n",
        "            for (state, action, _), G in zip(trajectory, returns):\n",
        "                state_tensor = torch.tensor(state, dtype=torch.float32).to(self.device)\n",
        "                log_action_probs = self.policy_net(state_tensor)\n",
        "                loss -= log_action_probs[ACTION_IDX[action]] * G\n",
        "\n",
        "            self.optimizer.zero_grad()\n",
        "            loss.backward()\n",
        "            self.optimizer.step()\n",
        "            epsilon = max(min_epsilon, epsilon * epsilon_decay)\n",
        "\n",
        "            if episode % 50 == 0:\n",
        "                print(f\"Episode {episode}: Total Reward = {sum(rewards)}, Epsilon = {epsilon:.4f}\")\n",
        "\n",
        "    def get_optimal_trajectory(self):\n",
        "        state = (0, 0)\n",
        "        trajectory = [state]\n",
        "        rewards = 0\n",
        "        while state != GOAL:\n",
        "            state_tensor = torch.tensor(state, dtype=torch.float32).to(self.device)\n",
        "            log_action_probs = self.policy_net(state_tensor).detach().cpu().numpy()\n",
        "            action_probs = np.exp(log_action_probs)\n",
        "            action = np.random.choice(ACTIONS, p=action_probs / action_probs.sum())\n",
        "            state, reward = grid_world.step(state, action)\n",
        "            rewards += reward\n",
        "            trajectory.append(state)\n",
        "        return trajectory, rewards"
      ]
    },
    {
      "cell_type": "markdown",
      "metadata": {
        "id": "Kq55_sVbVkW6"
      },
      "source": [
        "# Genetic Algorithm"
      ]
    },
    {
      "cell_type": "markdown",
      "metadata": {
        "id": "3_TK-j01VkW6"
      },
      "source": [
        "\n",
        "Genetic Algorithms (GAs) are optimization algorithms inspired by **natural selection**. They evolve a population of candidate solutions over multiple generations to find an optimal or near-optimal solution.\n",
        "\n",
        "#### **1. Population ($P$)**\n",
        "A **population** consists of multiple candidate solutions (individuals). Each individual represents a **policy or solution** encoded as a chromosome.\n",
        "\n",
        "$$[\n",
        "P_t = \\{ X_1^t, X_2^t, ..., X_N^t \\}\n",
        "]$$\n",
        "\n",
        "where:\n",
        "- $( P_t )$ is the population at generation $( t )$,\n",
        "- $( X_i^t )$ is the $( i )$-th individual in the population,\n",
        "- $( N )$ is the population size.\n",
        "\n",
        "#### **2. Fitness Function ($F$)**\n",
        "Each individual is evaluated using a **fitness function**, which measures how good a solution is.\n",
        "\n",
        "$$[\n",
        "F(X_i) = \\text{reward or performance score of } X_i\n",
        "]$$\n",
        "\n",
        "#### **3. Selection**\n",
        "The best individuals are selected based on their fitness scores to produce the next generation. Common methods include:\n",
        "- **Roulette Wheel Selection** (Probability proportional to fitness)\n",
        "- **Tournament Selection** (Select the best out of a subset)\n",
        "\n",
        "#### **4. Crossover (Recombination)**\n",
        "Two parents **combine genetic information** to create offspring. A common method is **single-point crossover**, where a random crossover point is chosen.\n",
        "\n",
        "$$\n",
        "\\begin{aligned}\n",
        "\\text{Parent 1} &= (A_1, A_2, | A_3, A_4, A_5) \\\\\n",
        "\\text{Parent 2} &= (B_1, B_2, | B_3, B_4, B_5) \\\\\n",
        "\\text{Offspring 1} &= (A_1, A_2, | B_3, B_4, B_5) \\\\\n",
        "\\text{Offspring 2} &= (B_1, B_2, | A_3, A_4, A_5)\n",
        "\\end{aligned}\n",
        "$$\n",
        "\n",
        "#### **5. Mutation**\n",
        "Mutation introduces small **random changes** in individuals to maintain diversity and avoid local optima. If $( X_i )$ is an individual, a mutation function $( M )$ alters some genes:\n",
        "\n",
        "$$[\n",
        "X_i' = M(X_i)\n",
        "]$$\n",
        "\n",
        "For example, if an individual’s policy is `['up', 'right', 'down']`, mutation might randomly change `right` to `left`.\n",
        "\n",
        "#### **6. Generations & Evolution**\n",
        "The new population is formed after selection, crossover, and mutation. The process repeats for **multiple generations** until a stopping criterion is met (e.g., max generations or convergence).\n",
        "\n",
        "$$[\n",
        "P_{t+1} = \\text{next\\_generation}(P_t)\n",
        "]$$\n",
        "\n"
      ]
    },
    {
      "cell_type": "markdown",
      "metadata": {
        "id": "BhuDXH6gVkW6"
      },
      "source": [
        "### Genetic Algorithm Implementation"
      ]
    },
    {
      "cell_type": "code",
      "execution_count": 25,
      "metadata": {
        "id": "dTb0hWMKVkW6"
      },
      "outputs": [],
      "source": [
        "class GeneticAlgorithm:\n",
        "    def __init__(self, population_size, mutation_rate, crossover_rate, policy_network, generations=100, device='cpu'):\n",
        "        self.device = device\n",
        "        self.population_size = population_size\n",
        "        self.mutation_rate = mutation_rate\n",
        "        self.crossover_rate = crossover_rate\n",
        "        self.generations = generations\n",
        "        self.policy_network = policy_network.to(self.device)  # Move the model to GPU\n",
        "        self.population = [self._initialize_individual() for _ in range(population_size)]\n",
        "\n",
        "    def _initialize_individual(self):\n",
        "        # Initialize an individual by setting random weights for the policy network\n",
        "        individual = {}\n",
        "        for name, param in self.policy_network.named_parameters():\n",
        "            individual[name] = torch.randn_like(param).to(self.device)  # Move individual weights to GPU\n",
        "        return individual\n",
        "\n",
        "    def _evaluate_individual(self, individual):\n",
        "        # Simulate the evaluation (for example, run a few episodes in GridWorld environment)\n",
        "        self._apply_individual_weights(individual)\n",
        "        state = (0, 0)\n",
        "        STOP = 0\n",
        "        trajectory, rewards = [], []\n",
        "        while state != GOAL and STOP <= 150:\n",
        "            state_tensor = torch.tensor(state, dtype=torch.float32).to(self.device)  # Move state to GPU\n",
        "            log_action_probs = self.policy_network(state_tensor)\n",
        "            action_probs = torch.exp(log_action_probs)\n",
        "            action_idx = torch.argmax(action_probs).item()  # Get action with highest probability\n",
        "            action = ACTIONS[action_idx]  # Map action index back to action\n",
        "            new_state, reward = grid_world.step(state, action)\n",
        "            trajectory.append((state, action, reward))\n",
        "            rewards.append(reward)\n",
        "            state = new_state\n",
        "            STOP += 1\n",
        "        return sum(rewards)\n",
        "\n",
        "    def _apply_individual_weights(self, individual):\n",
        "        # Apply the weights of an individual to the policy network\n",
        "        for name, param in individual.items():\n",
        "            self.policy_network.state_dict()[name].copy_(param)\n",
        "\n",
        "    def _select_parents(self):\n",
        "        # Select two individuals based on fitness (higher reward is better)\n",
        "        scores = [(ind, self._evaluate_individual(ind)) for ind in self.population]\n",
        "        sorted_scores = sorted(scores, key=lambda x: x[1], reverse=True)\n",
        "        parent1 = sorted_scores[0][0]\n",
        "        parent2 = sorted_scores[1][0]\n",
        "        return parent1, parent2\n",
        "\n",
        "    def _crossover(self, parent1, parent2):\n",
        "        # Perform crossover to combine the genetic material of two parents\n",
        "        child = {}\n",
        "        for name in parent1.keys():\n",
        "            if random.random() < self.crossover_rate:\n",
        "                child[name] = parent1[name]\n",
        "            else:\n",
        "                child[name] = parent2[name]\n",
        "        return child\n",
        "\n",
        "    def _mutate(self, individual):\n",
        "        # Perform mutation (randomly modify the weights)\n",
        "        for name, param in individual.items():\n",
        "            if random.random() < self.mutation_rate:\n",
        "                individual[name] = torch.randn_like(param).to(self.device)  # Ensure mutated weight is on GPU\n",
        "        return individual\n",
        "\n",
        "    def run(self):\n",
        "        for generation in range(self.generations):\n",
        "            new_population = []\n",
        "            for _ in range(self.population_size // 2):\n",
        "                parent1, parent2 = self._select_parents()\n",
        "                child1 = self._crossover(parent1, parent2)\n",
        "                child2 = self._crossover(parent2, parent1)\n",
        "                new_population.append(self._mutate(child1))\n",
        "                new_population.append(self._mutate(child2))\n",
        "            self.population = new_population\n",
        "            print(f\"Generation {generation + 1} completed\")\n",
        "\n",
        "    def get_optimal_trajectory(self):\n",
        "        state = (0, 0)\n",
        "        trajectory = [state]\n",
        "        rewards = 0\n",
        "        STOP = 0\n",
        "        while state != GOAL and STOP <= 150:\n",
        "            state_tensor = torch.tensor(state, dtype=torch.float32).to(self.device)  # Move state to GPU\n",
        "            log_action_probs = self.policy_network(state_tensor)\n",
        "            action_probs = torch.exp(log_action_probs)\n",
        "            action_idx = torch.argmax(action_probs).item()  # Get action with highest probability\n",
        "            action = ACTIONS[action_idx]  # Map action index back to action\n",
        "            state, reward = grid_world.step(state, action)\n",
        "            rewards += reward\n",
        "            trajectory.append(state)\n",
        "            STOP += 1\n",
        "        return trajectory, rewards"
      ]
    },
    {
      "cell_type": "markdown",
      "metadata": {
        "id": "y2_rrmBCVkW6"
      },
      "source": [
        "# Running & Comparing Agents (20 Points)"
      ]
    },
    {
      "cell_type": "code",
      "execution_count": 30,
      "metadata": {
        "colab": {
          "base_uri": "https://localhost:8080/"
        },
        "id": "ISBNYDieVkW6",
        "outputId": "ee98c3ed-2d89-46aa-a8f0-cefd91128d33"
      },
      "outputs": [
        {
          "name": "stdout",
          "output_type": "stream",
          "text": [
            "Episode 0: Total Reward = -614, Epsilon = 0.9995\n",
            "Episode 50: Total Reward = -372, Epsilon = 0.9748\n",
            "Episode 100: Total Reward = -1598, Epsilon = 0.9507\n",
            "Episode 150: Total Reward = -376, Epsilon = 0.9273\n",
            "Episode 200: Total Reward = -712, Epsilon = 0.9044\n",
            "Episode 250: Total Reward = -160, Epsilon = 0.8820\n",
            "Episode 300: Total Reward = -80, Epsilon = 0.8602\n",
            "Episode 350: Total Reward = -100, Epsilon = 0.8390\n",
            "Episode 400: Total Reward = -534, Epsilon = 0.8183\n",
            "Episode 450: Total Reward = -48, Epsilon = 0.7981\n",
            "Episode 500: Total Reward = -16, Epsilon = 0.7784\n",
            "Episode 550: Total Reward = -364, Epsilon = 0.7591\n",
            "Episode 600: Total Reward = -4, Epsilon = 0.7404\n",
            "Episode 650: Total Reward = 36, Epsilon = 0.7221\n",
            "Episode 700: Total Reward = -170, Epsilon = 0.7043\n",
            "Episode 750: Total Reward = -564, Epsilon = 0.6869\n",
            "Episode 800: Total Reward = -276, Epsilon = 0.6699\n",
            "Episode 850: Total Reward = -180, Epsilon = 0.6534\n",
            "Episode 900: Total Reward = -414, Epsilon = 0.6372\n",
            "Episode 950: Total Reward = -78, Epsilon = 0.6215\n",
            "Episode 1000: Total Reward = -382, Epsilon = 0.6062\n",
            "Episode 1050: Total Reward = -350, Epsilon = 0.5912\n",
            "Episode 1100: Total Reward = -56, Epsilon = 0.5766\n",
            "Episode 1150: Total Reward = -330, Epsilon = 0.5623\n",
            "Episode 1200: Total Reward = -752, Epsilon = 0.5485\n",
            "Episode 1250: Total Reward = 50, Epsilon = 0.5349\n",
            "Episode 1300: Total Reward = -628, Epsilon = 0.5217\n",
            "Episode 1350: Total Reward = -28, Epsilon = 0.5088\n",
            "Episode 1400: Total Reward = -350, Epsilon = 0.4963\n",
            "Episode 1450: Total Reward = -706, Epsilon = 0.4840\n",
            "Episode 1500: Total Reward = -78, Epsilon = 0.4720\n",
            "Episode 1550: Total Reward = -776, Epsilon = 0.4604\n",
            "Episode 1600: Total Reward = -378, Epsilon = 0.4490\n",
            "Episode 1650: Total Reward = -1048, Epsilon = 0.4379\n",
            "Episode 1700: Total Reward = -1202, Epsilon = 0.4271\n",
            "Episode 1750: Total Reward = -98, Epsilon = 0.4166\n",
            "Episode 1800: Total Reward = -20, Epsilon = 0.4063\n",
            "Episode 1850: Total Reward = -682, Epsilon = 0.3962\n",
            "Episode 1900: Total Reward = -44, Epsilon = 0.3865\n",
            "Episode 1950: Total Reward = -562, Epsilon = 0.3769\n",
            "Episode 2000: Total Reward = -236, Epsilon = 0.3676\n",
            "Episode 2050: Total Reward = -798, Epsilon = 0.3585\n",
            "Episode 2100: Total Reward = -102, Epsilon = 0.3497\n",
            "Episode 2150: Total Reward = -178, Epsilon = 0.3410\n",
            "Episode 2200: Total Reward = -702, Epsilon = 0.3326\n",
            "Episode 2250: Total Reward = -152, Epsilon = 0.3244\n",
            "Episode 2300: Total Reward = -1294, Epsilon = 0.3164\n",
            "Episode 2350: Total Reward = -450, Epsilon = 0.3086\n",
            "Episode 2400: Total Reward = -2538, Epsilon = 0.3010\n",
            "Episode 2450: Total Reward = -100, Epsilon = 0.2935\n",
            "Episode 2500: Total Reward = -122, Epsilon = 0.2863\n",
            "Episode 2550: Total Reward = -372, Epsilon = 0.2792\n",
            "Episode 2600: Total Reward = -320, Epsilon = 0.2723\n",
            "Episode 2650: Total Reward = -658, Epsilon = 0.2656\n",
            "Episode 2700: Total Reward = -210, Epsilon = 0.2590\n",
            "Episode 2750: Total Reward = -1262, Epsilon = 0.2526\n",
            "Episode 2800: Total Reward = -1238, Epsilon = 0.2464\n",
            "Episode 2850: Total Reward = -1784, Epsilon = 0.2403\n",
            "Episode 2900: Total Reward = -118, Epsilon = 0.2344\n",
            "Episode 2950: Total Reward = -144, Epsilon = 0.2286\n",
            "Episode 3000: Total Reward = -40, Epsilon = 0.2229\n",
            "Episode 3050: Total Reward = -408, Epsilon = 0.2174\n",
            "Episode 3100: Total Reward = -40, Epsilon = 0.2121\n",
            "Episode 3150: Total Reward = -526, Epsilon = 0.2068\n",
            "Episode 3200: Total Reward = -260, Epsilon = 0.2017\n",
            "Episode 3250: Total Reward = -350, Epsilon = 0.1967\n",
            "Episode 3300: Total Reward = 64, Epsilon = 0.1919\n",
            "Episode 3350: Total Reward = -92, Epsilon = 0.1871\n",
            "Episode 3400: Total Reward = -122, Epsilon = 0.1825\n",
            "Episode 3450: Total Reward = -86, Epsilon = 0.1780\n",
            "Episode 3500: Total Reward = -80, Epsilon = 0.1736\n",
            "Episode 3550: Total Reward = 78, Epsilon = 0.1693\n",
            "Episode 3600: Total Reward = 50, Epsilon = 0.1651\n",
            "Episode 3650: Total Reward = -190, Epsilon = 0.1611\n",
            "Episode 3700: Total Reward = 86, Epsilon = 0.1571\n",
            "Episode 3750: Total Reward = 88, Epsilon = 0.1532\n",
            "Episode 3800: Total Reward = 88, Epsilon = 0.1494\n",
            "Episode 3850: Total Reward = 88, Epsilon = 0.1457\n",
            "Episode 3900: Total Reward = 82, Epsilon = 0.1421\n",
            "Episode 3950: Total Reward = 88, Epsilon = 0.1386\n",
            "Episode 4000: Total Reward = 48, Epsilon = 0.1352\n",
            "Episode 4050: Total Reward = 68, Epsilon = 0.1319\n",
            "Episode 4100: Total Reward = 86, Epsilon = 0.1286\n",
            "Episode 4150: Total Reward = 88, Epsilon = 0.1254\n",
            "Episode 4200: Total Reward = 86, Epsilon = 0.1223\n",
            "Episode 4250: Total Reward = 68, Epsilon = 0.1193\n",
            "Episode 4300: Total Reward = 36, Epsilon = 0.1164\n",
            "Episode 4350: Total Reward = 68, Epsilon = 0.1135\n",
            "Episode 4400: Total Reward = 76, Epsilon = 0.1107\n",
            "Episode 4450: Total Reward = 86, Epsilon = 0.1080\n",
            "Episode 4500: Total Reward = 88, Epsilon = 0.1053\n",
            "Episode 4550: Total Reward = 86, Epsilon = 0.1027\n",
            "Episode 4600: Total Reward = 66, Epsilon = 0.1002\n",
            "Episode 4650: Total Reward = 78, Epsilon = 0.1000\n",
            "Episode 4700: Total Reward = 86, Epsilon = 0.1000\n",
            "Episode 4750: Total Reward = 88, Epsilon = 0.1000\n",
            "Episode 4800: Total Reward = 88, Epsilon = 0.1000\n",
            "Episode 4850: Total Reward = 88, Epsilon = 0.1000\n",
            "Episode 4900: Total Reward = 68, Epsilon = 0.1000\n",
            "Episode 4950: Total Reward = 88, Epsilon = 0.1000\n",
            "Episode 5000: Total Reward = 72, Epsilon = 0.1000\n",
            "Episode 5050: Total Reward = 88, Epsilon = 0.1000\n",
            "Episode 5100: Total Reward = 88, Epsilon = 0.1000\n",
            "Episode 5150: Total Reward = 60, Epsilon = 0.1000\n",
            "Episode 5200: Total Reward = -70, Epsilon = 0.1000\n",
            "Episode 5250: Total Reward = 86, Epsilon = 0.1000\n",
            "Episode 5300: Total Reward = 88, Epsilon = 0.1000\n",
            "Episode 5350: Total Reward = 86, Epsilon = 0.1000\n",
            "Episode 5400: Total Reward = 84, Epsilon = 0.1000\n",
            "Episode 5450: Total Reward = 80, Epsilon = 0.1000\n",
            "Episode 5500: Total Reward = 68, Epsilon = 0.1000\n",
            "Episode 5550: Total Reward = 86, Epsilon = 0.1000\n",
            "Episode 5600: Total Reward = 82, Epsilon = 0.1000\n",
            "Episode 5650: Total Reward = 86, Epsilon = 0.1000\n",
            "Episode 5700: Total Reward = 88, Epsilon = 0.1000\n",
            "Episode 5750: Total Reward = 88, Epsilon = 0.1000\n",
            "Episode 5800: Total Reward = 76, Epsilon = 0.1000\n",
            "Episode 5850: Total Reward = 88, Epsilon = 0.1000\n",
            "Episode 5900: Total Reward = 56, Epsilon = 0.1000\n",
            "Episode 5950: Total Reward = 82, Epsilon = 0.1000\n"
          ]
        }
      ],
      "source": [
        "# Train REINFORCE agent\n",
        "\n",
        "LEARNING_RATE = 0.005\n",
        "GAMMA = 0.99\n",
        "\n",
        "reinforce_agent = ReinforceAgent(lr = LEARNING_RATE, gamma = GAMMA)\n",
        "reinforce_agent.train(episodes=6000, epsilon=1.0, epsilon_decay=0.9995, min_epsilon=0.1)"
      ]
    },
    {
      "cell_type": "code",
      "execution_count": 32,
      "metadata": {
        "colab": {
          "base_uri": "https://localhost:8080/"
        },
        "id": "_u-6R1O0VkW7",
        "outputId": "3e7b39de-c9cd-420b-f76d-4c3a83323054"
      },
      "outputs": [
        {
          "name": "stdout",
          "output_type": "stream",
          "text": [
            "Generation 1 completed\n",
            "Generation 2 completed\n",
            "Generation 3 completed\n",
            "Generation 4 completed\n",
            "Generation 5 completed\n",
            "Generation 6 completed\n",
            "Generation 7 completed\n",
            "Generation 8 completed\n",
            "Generation 9 completed\n",
            "Generation 10 completed\n",
            "Generation 11 completed\n",
            "Generation 12 completed\n",
            "Generation 13 completed\n",
            "Generation 14 completed\n",
            "Generation 15 completed\n",
            "Generation 16 completed\n",
            "Generation 17 completed\n",
            "Generation 18 completed\n",
            "Generation 19 completed\n",
            "Generation 20 completed\n",
            "Generation 21 completed\n",
            "Generation 22 completed\n",
            "Generation 23 completed\n",
            "Generation 24 completed\n",
            "Generation 25 completed\n",
            "Generation 26 completed\n",
            "Generation 27 completed\n",
            "Generation 28 completed\n",
            "Generation 29 completed\n",
            "Generation 30 completed\n",
            "Generation 31 completed\n",
            "Generation 32 completed\n",
            "Generation 33 completed\n",
            "Generation 34 completed\n",
            "Generation 35 completed\n",
            "Generation 36 completed\n",
            "Generation 37 completed\n",
            "Generation 38 completed\n",
            "Generation 39 completed\n",
            "Generation 40 completed\n",
            "Generation 41 completed\n",
            "Generation 42 completed\n",
            "Generation 43 completed\n",
            "Generation 44 completed\n",
            "Generation 45 completed\n",
            "Generation 46 completed\n",
            "Generation 47 completed\n",
            "Generation 48 completed\n",
            "Generation 49 completed\n",
            "Generation 50 completed\n",
            "Generation 51 completed\n",
            "Generation 52 completed\n",
            "Generation 53 completed\n",
            "Generation 54 completed\n",
            "Generation 55 completed\n",
            "Generation 56 completed\n",
            "Generation 57 completed\n",
            "Generation 58 completed\n",
            "Generation 59 completed\n",
            "Generation 60 completed\n",
            "Generation 61 completed\n",
            "Generation 62 completed\n",
            "Generation 63 completed\n",
            "Generation 64 completed\n",
            "Generation 65 completed\n",
            "Generation 66 completed\n",
            "Generation 67 completed\n",
            "Generation 68 completed\n",
            "Generation 69 completed\n",
            "Generation 70 completed\n",
            "Generation 71 completed\n",
            "Generation 72 completed\n",
            "Generation 73 completed\n",
            "Generation 74 completed\n",
            "Generation 75 completed\n",
            "Generation 76 completed\n",
            "Generation 77 completed\n",
            "Generation 78 completed\n",
            "Generation 79 completed\n",
            "Generation 80 completed\n",
            "Generation 81 completed\n",
            "Generation 82 completed\n",
            "Generation 83 completed\n",
            "Generation 84 completed\n",
            "Generation 85 completed\n",
            "Generation 86 completed\n",
            "Generation 87 completed\n",
            "Generation 88 completed\n",
            "Generation 89 completed\n",
            "Generation 90 completed\n",
            "Generation 91 completed\n",
            "Generation 92 completed\n",
            "Generation 93 completed\n",
            "Generation 94 completed\n",
            "Generation 95 completed\n",
            "Generation 96 completed\n",
            "Generation 97 completed\n",
            "Generation 98 completed\n",
            "Generation 99 completed\n",
            "Generation 100 completed\n",
            "Generation 101 completed\n",
            "Generation 102 completed\n",
            "Generation 103 completed\n",
            "Generation 104 completed\n",
            "Generation 105 completed\n",
            "Generation 106 completed\n",
            "Generation 107 completed\n",
            "Generation 108 completed\n",
            "Generation 109 completed\n",
            "Generation 110 completed\n",
            "Generation 111 completed\n",
            "Generation 112 completed\n",
            "Generation 113 completed\n",
            "Generation 114 completed\n",
            "Generation 115 completed\n",
            "Generation 116 completed\n",
            "Generation 117 completed\n",
            "Generation 118 completed\n",
            "Generation 119 completed\n",
            "Generation 120 completed\n",
            "Generation 121 completed\n",
            "Generation 122 completed\n",
            "Generation 123 completed\n",
            "Generation 124 completed\n",
            "Generation 125 completed\n",
            "Generation 126 completed\n",
            "Generation 127 completed\n",
            "Generation 128 completed\n",
            "Generation 129 completed\n",
            "Generation 130 completed\n",
            "Generation 131 completed\n",
            "Generation 132 completed\n",
            "Generation 133 completed\n",
            "Generation 134 completed\n",
            "Generation 135 completed\n",
            "Generation 136 completed\n",
            "Generation 137 completed\n",
            "Generation 138 completed\n",
            "Generation 139 completed\n",
            "Generation 140 completed\n",
            "Generation 141 completed\n",
            "Generation 142 completed\n",
            "Generation 143 completed\n",
            "Generation 144 completed\n",
            "Generation 145 completed\n",
            "Generation 146 completed\n",
            "Generation 147 completed\n",
            "Generation 148 completed\n",
            "Generation 149 completed\n",
            "Generation 150 completed\n",
            "Generation 151 completed\n",
            "Generation 152 completed\n",
            "Generation 153 completed\n",
            "Generation 154 completed\n",
            "Generation 155 completed\n",
            "Generation 156 completed\n",
            "Generation 157 completed\n",
            "Generation 158 completed\n",
            "Generation 159 completed\n",
            "Generation 160 completed\n",
            "Generation 161 completed\n",
            "Generation 162 completed\n",
            "Generation 163 completed\n",
            "Generation 164 completed\n",
            "Generation 165 completed\n",
            "Generation 166 completed\n",
            "Generation 167 completed\n",
            "Generation 168 completed\n",
            "Generation 169 completed\n",
            "Generation 170 completed\n",
            "Generation 171 completed\n",
            "Generation 172 completed\n",
            "Generation 173 completed\n",
            "Generation 174 completed\n",
            "Generation 175 completed\n",
            "Generation 176 completed\n",
            "Generation 177 completed\n",
            "Generation 178 completed\n",
            "Generation 179 completed\n",
            "Generation 180 completed\n",
            "Generation 181 completed\n",
            "Generation 182 completed\n",
            "Generation 183 completed\n",
            "Generation 184 completed\n",
            "Generation 185 completed\n",
            "Generation 186 completed\n",
            "Generation 187 completed\n",
            "Generation 188 completed\n",
            "Generation 189 completed\n",
            "Generation 190 completed\n",
            "Generation 191 completed\n",
            "Generation 192 completed\n",
            "Generation 193 completed\n",
            "Generation 194 completed\n",
            "Generation 195 completed\n",
            "Generation 196 completed\n",
            "Generation 197 completed\n",
            "Generation 198 completed\n",
            "Generation 199 completed\n",
            "Generation 200 completed\n"
          ]
        }
      ],
      "source": [
        "# Train Genetic Algorithm agent\n",
        "\n",
        "POPULATION_SIZE = 30\n",
        "GENERATIONS = 200\n",
        "MUTATION_RATE = 0.05\n",
        "CROSSOVER_RATE = 0.5\n",
        "\n",
        "policy_network = PolicyNetwork(input_dim = 2, output_dim = len(ACTIONS), hidden_dim = 32)\n",
        "genetic_agent = GeneticAlgorithm(generations=GENERATIONS, population_size=POPULATION_SIZE, mutation_rate=MUTATION_RATE, crossover_rate=CROSSOVER_RATE, policy_network=policy_network, device=device)\n",
        "optimal_genetic_policy = genetic_agent.run()"
      ]
    },
    {
      "cell_type": "markdown",
      "metadata": {
        "id": "SLk5xtH9VkW7"
      },
      "source": [
        "# Visualizing Results (40 Points)"
      ]
    },
    {
      "cell_type": "markdown",
      "metadata": {
        "id": "Es2e9ubnVkW7"
      },
      "source": [
        "Plots the agent’s trajectory in the Grid World."
      ]
    },
    {
      "cell_type": "code",
      "execution_count": 33,
      "metadata": {
        "id": "IEbA7yzOVkW7"
      },
      "outputs": [],
      "source": [
        "def visualize_trajectory(trajectory, title):\n",
        "    plt.figure(figsize=(5, 5))\n",
        "    x_vals, y_vals = zip(*trajectory)\n",
        "    plt.plot(x_vals, y_vals, marker='o', color='blue', linestyle='-', alpha=0.7)\n",
        "    plt.scatter(0, 0, c='green', marker='s', label='Start')\n",
        "    plt.scatter(GOAL[0], GOAL[1], c='red', marker='X', label='Goal')\n",
        "    for i, (px, py) in enumerate(PENALTIES):\n",
        "        if i == 0:\n",
        "            plt.scatter(px, py, c='orange', marker='D', label='Penalty')\n",
        "        else:\n",
        "            plt.scatter(px, py, c='orange', marker='D')\n",
        "    plt.xticks(range(GRID_SIZE))\n",
        "    plt.yticks(range(GRID_SIZE))\n",
        "    plt.title(title)\n",
        "    plt.legend()\n",
        "    plt.grid(True)\n",
        "    plt.show()"
      ]
    },
    {
      "cell_type": "markdown",
      "metadata": {
        "id": "g45-MsSlVkW7"
      },
      "source": [
        "### Results"
      ]
    },
    {
      "cell_type": "code",
      "execution_count": 34,
      "metadata": {
        "colab": {
          "base_uri": "https://localhost:8080/",
          "height": 1000
        },
        "id": "s7q8Cm2AVkW7",
        "outputId": "f1defdcc-e570-4bd4-998b-40562846b402"
      },
      "outputs": [
        {
          "name": "stdout",
          "output_type": "stream",
          "text": [
            "Final Reward (REINFORCE): 88\n",
            "\n"
          ]
        },
        {
          "data": {
            "image/png": "[encoded data removed]",
            "text/plain": [
              "<Figure size 500x500 with 1 Axes>"
            ]
          },
          "metadata": {},
          "output_type": "display_data"
        },
        {
          "name": "stdout",
          "output_type": "stream",
          "text": [
            "\n",
            "--------------------------------------------------------------------------------------\n",
            "\n",
            "Final Reward (Genetic Algorithm): 68\n",
            "\n"
          ]
        },
        {
          "data": {
            "image/png": "[encoded data removed]",
            "text/plain": [
              "<Figure size 500x500 with 1 Axes>"
            ]
          },
          "metadata": {},
          "output_type": "display_data"
        }
      ],
      "source": [
        "# Results\n",
        "\n",
        "optimal_reinforce_trajectory, final_reward_reinforce = reinforce_agent.get_optimal_trajectory()\n",
        "print(f\"Final Reward (REINFORCE): {final_reward_reinforce}\\n\")\n",
        "visualize_trajectory(optimal_reinforce_trajectory, \"REINFORCE Optimal Policy\")\n",
        "\n",
        "print(\"\\n--------------------------------------------------------------------------------------\\n\")\n",
        "\n",
        "optimal_genetic_trajectory, final_reward_genetic = genetic_agent.get_optimal_trajectory()\n",
        "print(f\"Final Reward (Genetic Algorithm): {final_reward_genetic}\\n\")\n",
        "visualize_trajectory(optimal_genetic_trajectory, \"Genetic Algorithm Optimal Policy\")"
      ]
    },
    {
      "cell_type": "markdown",
      "metadata": {
        "id": "qT86bSuuVkW7"
      },
      "source": [
        "$\\bullet$ Based on the implementation and results from comparing policy search using Genetic Algorithm (GA) and the REINFORCE algorithm: \n",
        "\n",
        "**Question 1:** (10 points)\n",
        "\n",
        "How do these two methods differ in terms of their effectiveness for solving reinforcement learning tasks? \n",
        "\n",
        "**Question 2:** (15 points)\n",
        "\n",
        "Discuss the key differences in their **performance**, **convergence rates**, and **stability**. \n",
        "\n",
        "**Question 3:** (15 points)\n",
        "\n",
        "Additionally, explore how each method handles exploration and exploitation, and suggest situations where one might be preferred over the other. \n",
        "\n",
        "<br/>\n",
        "ALL ANSWERS IN REPORT"
      ]
    },
    {
      "cell_type": "code",
      "execution_count": null,
      "metadata": {
        "id": "3nTBWwYAunsU"
      },
      "outputs": [],
      "source": []
    }
  ],
  "metadata": {
    "accelerator": "GPU",
    "colab": {
      "gpuType": "T4",
      "provenance": []
    },
    "kernelspec": {
      "display_name": "Python 3",
      "name": "python3"
    },
    "language_info": {
      "codemirror_mode": {
        "name": "ipython",
        "version": 3
      },
      "file_extension": ".py",
      "mimetype": "text/x-python",
      "name": "python",
      "nbconvert_exporter": "python",
      "pygments_lexer": "ipython3",
      "version": "3.11.8"
    }
  },
  "nbformat": 4,
  "nbformat_minor": 0
}
